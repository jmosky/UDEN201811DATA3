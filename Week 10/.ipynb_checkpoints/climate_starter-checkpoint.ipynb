{
 "cells": [
  {
   "cell_type": "code",
   "execution_count": 116,
   "metadata": {},
   "outputs": [],
   "source": [
    "%matplotlib inline\n",
    "from matplotlib import style\n",
    "style.use('fivethirtyeight')\n",
    "import matplotlib.pyplot as plt\n",
    "\n",
    "import numpy as np\n",
    "import pandas as pd\n",
    "from datetime import datetime, timedelta\n",
    "import datetime as dt\n",
    "\n",
    "# Python SQL toolkit and Object Relational Mapper\n",
    "import sqlalchemy\n",
    "from sqlalchemy.ext.automap import automap_base\n",
    "from sqlalchemy.orm import Session\n",
    "from sqlalchemy import create_engine, func, inspect, text"
   ]
  },
  {
   "cell_type": "markdown",
   "metadata": {},
   "source": [
    "# Reflect Tables into SQLAlchemy ORM"
   ]
  },
  {
   "cell_type": "code",
   "execution_count": 3,
   "metadata": {},
   "outputs": [],
   "source": [
    "engine = create_engine(\"sqlite:///Resources/hawaii.sqlite\")"
   ]
  },
  {
   "cell_type": "code",
   "execution_count": 4,
   "metadata": {},
   "outputs": [],
   "source": [
    "# reflect an existing database into a new model\n",
    "Base = automap_base()\n",
    "\n",
    "# reflect the tables\n",
    "Base.prepare(engine, reflect=True)"
   ]
  },
  {
   "cell_type": "code",
   "execution_count": 5,
   "metadata": {},
   "outputs": [
    {
     "data": {
      "text/plain": [
       "['measurement', 'station']"
      ]
     },
     "execution_count": 5,
     "metadata": {},
     "output_type": "execute_result"
    }
   ],
   "source": [
    "# We can view all of the classes that automap found\n",
    "Base.classes.keys()\n",
    "\n",
    "# TUTOR - What is the difference between ^ and inspector.get_table_names() which returns the same thing?"
   ]
  },
  {
   "cell_type": "code",
   "execution_count": 6,
   "metadata": {},
   "outputs": [],
   "source": [
    "# Save references to each table\n",
    "Measurement = Base.classes.measurement\n",
    "Station = Base.classes.station"
   ]
  },
  {
   "cell_type": "code",
   "execution_count": 7,
   "metadata": {},
   "outputs": [],
   "source": [
    "# Create our session (link) from Python to the DB\n",
    "session = Session(engine)"
   ]
  },
  {
   "cell_type": "code",
   "execution_count": 11,
   "metadata": {},
   "outputs": [],
   "source": [
    "# Create inspector.\n",
    "inspector = inspect(engine)"
   ]
  },
  {
   "cell_type": "code",
   "execution_count": 17,
   "metadata": {},
   "outputs": [
    {
     "data": {
      "text/plain": [
       "{'name': 'date',\n",
       " 'type': TEXT(),\n",
       " 'nullable': True,\n",
       " 'default': None,\n",
       " 'autoincrement': 'auto',\n",
       " 'primary_key': 0}"
      ]
     },
     "execution_count": 17,
     "metadata": {},
     "output_type": "execute_result"
    }
   ],
   "source": [
    "inspector.get_columns('measurement')[2]"
   ]
  },
  {
   "cell_type": "markdown",
   "metadata": {},
   "source": [
    "# Exploratory Climate Analysis"
   ]
  },
  {
   "cell_type": "code",
   "execution_count": 230,
   "metadata": {},
   "outputs": [
    {
     "data": {
      "text/html": [
       "<div>\n",
       "<style scoped>\n",
       "    .dataframe tbody tr th:only-of-type {\n",
       "        vertical-align: middle;\n",
       "    }\n",
       "\n",
       "    .dataframe tbody tr th {\n",
       "        vertical-align: top;\n",
       "    }\n",
       "\n",
       "    .dataframe thead th {\n",
       "        text-align: right;\n",
       "    }\n",
       "</style>\n",
       "<table border=\"1\" class=\"dataframe\">\n",
       "  <thead>\n",
       "    <tr style=\"text-align: right;\">\n",
       "      <th></th>\n",
       "      <th>date</th>\n",
       "      <th>prcp</th>\n",
       "    </tr>\n",
       "  </thead>\n",
       "  <tbody>\n",
       "    <tr>\n",
       "      <th>0</th>\n",
       "      <td>2016-08-23</td>\n",
       "      <td>2.71</td>\n",
       "    </tr>\n",
       "    <tr>\n",
       "      <th>1</th>\n",
       "      <td>2016-08-24</td>\n",
       "      <td>9.33</td>\n",
       "    </tr>\n",
       "    <tr>\n",
       "      <th>2</th>\n",
       "      <td>2016-08-25</td>\n",
       "      <td>0.54</td>\n",
       "    </tr>\n",
       "    <tr>\n",
       "      <th>3</th>\n",
       "      <td>2016-08-26</td>\n",
       "      <td>0.10</td>\n",
       "    </tr>\n",
       "    <tr>\n",
       "      <th>4</th>\n",
       "      <td>2016-08-27</td>\n",
       "      <td>0.32</td>\n",
       "    </tr>\n",
       "  </tbody>\n",
       "</table>\n",
       "</div>"
      ],
      "text/plain": [
       "         date  prcp\n",
       "0  2016-08-23  2.71\n",
       "1  2016-08-24  9.33\n",
       "2  2016-08-25  0.54\n",
       "3  2016-08-26  0.10\n",
       "4  2016-08-27  0.32"
      ]
     },
     "execution_count": 230,
     "metadata": {},
     "output_type": "execute_result"
    }
   ],
   "source": [
    "# Design a query to retrieve the last 12 months of precipitation data and plot the results\n",
    "# Calculate the date 1 year ago from the last data point in the database\n",
    "# Perform a query to retrieve the data and precipitation scores\n",
    "# Save the query results as a Pandas DataFrame and set the index to the date column\n",
    "# Sort the dataframe by date\n",
    "\n",
    "precip = []\n",
    "\n",
    "# TUTOR - Is this indentation right?\n",
    "for row in session.query(Measurement).all():\n",
    "        precip.append({\n",
    "            \"date\": row.date,\n",
    "            \"prcp\": row.prcp\n",
    "        })\n",
    "\n",
    "# Create dataframe from all records.\n",
    "precip_df = pd.DataFrame.from_records(precip)\n",
    "# precip_df.set_index('date', inplace=True)\n",
    "\n",
    "# Add new column converting date string to datetime format.\n",
    "precip_df['datetime'] = pd.to_datetime(precip_df['date'], format='%Y-%m-%d')\n",
    "\n",
    "# Determine the most recent date.\n",
    "max_date = precip_df.datetime.max()\n",
    "\n",
    "# If the row's date is within a year of the most recent date, mark as True else False.\n",
    "precip_df['include_flag'] = precip_df['datetime'].apply(lambda x: True if max_date - x <= timedelta(days=365) else False) \n",
    "\n",
    "# TUTOR - Why does precip_df in the next line generate a NoneType object?\n",
    "# precip_df = precip_df.query('include_flag == True', inplace=True)\n",
    "\n",
    "# Filter the dataframe for only the lase year of data.\n",
    "precip_df.query('include_flag == True', inplace=True)\n",
    "\n",
    "# Sort dates in ascending order.\n",
    "precip_df.sort_values('date',inplace=True)\n",
    "\n",
    "# Aggregate prcp by date.\n",
    "precip_df = precip_df[['date','prcp']].groupby(['date']).agg({'prcp': 'sum'}).reset_index()\n",
    "\n",
    "# See sample.\n",
    "precip_df.head()\n",
    "\n"
   ]
  },
  {
   "cell_type": "code",
   "execution_count": 333,
   "metadata": {},
   "outputs": [
    {
     "data": {
      "text/plain": [
       "{'prcp': {'2016-08-23': 2.71,\n",
       "  '2016-08-24': 9.33,\n",
       "  '2016-08-25': 0.5399999999999999,\n",
       "  '2016-08-26': 0.1,\n",
       "  '2016-08-27': 0.32,\n",
       "  '2016-08-28': 3.0999999999999996,\n",
       "  '2016-08-29': 1.46,\n",
       "  '2016-08-30': 0.07,\n",
       "  '2016-08-31': 3.1799999999999997,\n",
       "  '2016-09-01': 0.03,\n",
       "  '2016-09-02': 0.25,\n",
       "  '2016-09-03': 1.2700000000000002,\n",
       "  '2016-09-04': 1.3800000000000001,\n",
       "  '2016-09-05': 0.33999999999999997,\n",
       "  '2016-09-06': 1.2300000000000002,\n",
       "  '2016-09-07': 2.0,\n",
       "  '2016-09-08': 0.45999999999999996,\n",
       "  '2016-09-09': 1.0699999999999998,\n",
       "  '2016-09-10': 1.4,\n",
       "  '2016-09-11': 1.25,\n",
       "  '2016-09-12': 1.54,\n",
       "  '2016-09-13': 2.71,\n",
       "  '2016-09-14': 14.28,\n",
       "  '2016-09-15': 4.96,\n",
       "  '2016-09-16': 0.8200000000000001,\n",
       "  '2016-09-17': 0.68,\n",
       "  '2016-09-18': 0.53,\n",
       "  '2016-09-19': 0.32,\n",
       "  '2016-09-20': 1.03,\n",
       "  '2016-09-21': 1.17,\n",
       "  '2016-09-22': 1.44,\n",
       "  '2016-09-23': 1.5699999999999998,\n",
       "  '2016-09-24': 0.28,\n",
       "  '2016-09-25': 0.09,\n",
       "  '2016-09-26': 1.6700000000000002,\n",
       "  '2016-09-27': 1.3599999999999999,\n",
       "  '2016-09-28': 0.13,\n",
       "  '2016-09-29': 2.9899999999999998,\n",
       "  '2016-09-30': 1.15,\n",
       "  '2016-10-01': 1.4500000000000002,\n",
       "  '2016-10-02': 0.72,\n",
       "  '2016-10-03': 0.6900000000000001,\n",
       "  '2016-10-04': 3.4899999999999998,\n",
       "  '2016-10-05': 0.8200000000000001,\n",
       "  '2016-10-06': 0.16000000000000003,\n",
       "  '2016-10-07': 0.01,\n",
       "  '2016-10-08': 0.04,\n",
       "  '2016-10-09': 0.0,\n",
       "  '2016-10-10': 0.0,\n",
       "  '2016-10-11': 0.69,\n",
       "  '2016-10-12': 0.08,\n",
       "  '2016-10-13': 0.08,\n",
       "  '2016-10-14': 0.0,\n",
       "  '2016-10-15': 0.39,\n",
       "  '2016-10-16': 0.0,\n",
       "  '2016-10-17': 0.55,\n",
       "  '2016-10-18': 0.6,\n",
       "  '2016-10-19': 0.16999999999999998,\n",
       "  '2016-10-20': 1.01,\n",
       "  '2016-10-21': 0.32,\n",
       "  '2016-10-22': 1.77,\n",
       "  '2016-10-23': 0.27999999999999997,\n",
       "  '2016-10-24': 0.7899999999999999,\n",
       "  '2016-10-25': 1.1,\n",
       "  '2016-10-26': 0.29000000000000004,\n",
       "  '2016-10-27': 1.8599999999999999,\n",
       "  '2016-10-28': 0.57,\n",
       "  '2016-10-29': 0.64,\n",
       "  '2016-10-30': 1.5899999999999999,\n",
       "  '2016-10-31': 1.61,\n",
       "  '2016-11-01': 0.21,\n",
       "  '2016-11-02': 0.04,\n",
       "  '2016-11-03': 0.02,\n",
       "  '2016-11-04': 0.06,\n",
       "  '2016-11-05': 0.45,\n",
       "  '2016-11-06': 0.08,\n",
       "  '2016-11-07': 0.18,\n",
       "  '2016-11-08': 1.12,\n",
       "  '2016-11-09': 0.4,\n",
       "  '2016-11-10': 0.01,\n",
       "  '2016-11-11': 0.0,\n",
       "  '2016-11-12': 0.0,\n",
       "  '2016-11-13': 0.0,\n",
       "  '2016-11-14': 0.15000000000000002,\n",
       "  '2016-11-15': 0.05,\n",
       "  '2016-11-16': 1.5400000000000003,\n",
       "  '2016-11-17': 0.060000000000000005,\n",
       "  '2016-11-18': 0.03,\n",
       "  '2016-11-19': 0.38,\n",
       "  '2016-11-20': 0.9500000000000001,\n",
       "  '2016-11-21': 3.08,\n",
       "  '2016-11-22': 5.01,\n",
       "  '2016-11-23': 0.67,\n",
       "  '2016-11-24': 1.48,\n",
       "  '2016-11-25': 1.3200000000000003,\n",
       "  '2016-11-26': 0.51,\n",
       "  '2016-11-27': 0.55,\n",
       "  '2016-11-28': 0.72,\n",
       "  '2016-11-29': 0.43000000000000005,\n",
       "  '2016-11-30': 1.06,\n",
       "  '2016-12-01': 1.77,\n",
       "  '2016-12-02': 2.36,\n",
       "  '2016-12-03': 2.71,\n",
       "  '2016-12-04': 0.8,\n",
       "  '2016-12-05': 3.2400000000000007,\n",
       "  '2016-12-06': 0.04,\n",
       "  '2016-12-07': 0.38,\n",
       "  '2016-12-08': 0.4600000000000001,\n",
       "  '2016-12-09': 1.85,\n",
       "  '2016-12-10': 0.13,\n",
       "  '2016-12-11': 0.25,\n",
       "  '2016-12-12': 0.05,\n",
       "  '2016-12-13': 0.77,\n",
       "  '2016-12-14': 1.5,\n",
       "  '2016-12-15': 0.26,\n",
       "  '2016-12-16': 0.04,\n",
       "  '2016-12-17': 0.35000000000000003,\n",
       "  '2016-12-18': 0.89,\n",
       "  '2016-12-19': 0.42000000000000004,\n",
       "  '2016-12-20': 0.03,\n",
       "  '2016-12-21': 0.9,\n",
       "  '2016-12-22': 2.4699999999999998,\n",
       "  '2016-12-23': 1.23,\n",
       "  '2016-12-24': 1.62,\n",
       "  '2016-12-25': 0.43000000000000005,\n",
       "  '2016-12-26': 2.04,\n",
       "  '2016-12-27': 0.24000000000000002,\n",
       "  '2016-12-28': 0.41000000000000003,\n",
       "  '2016-12-29': 2.38,\n",
       "  '2016-12-30': 3.35,\n",
       "  '2016-12-31': 2.1399999999999997,\n",
       "  '2017-01-01': 0.35,\n",
       "  '2017-01-02': 0.02,\n",
       "  '2017-01-03': 0.0,\n",
       "  '2017-01-04': 0.18,\n",
       "  '2017-01-05': 0.95,\n",
       "  '2017-01-06': 0.7999999999999999,\n",
       "  '2017-01-07': 0.06,\n",
       "  '2017-01-08': 0.06,\n",
       "  '2017-01-09': 0.0,\n",
       "  '2017-01-10': 0.0,\n",
       "  '2017-01-11': 0.0,\n",
       "  '2017-01-12': 0.0,\n",
       "  '2017-01-13': 0.0,\n",
       "  '2017-01-14': 0.01,\n",
       "  '2017-01-15': 0.01,\n",
       "  '2017-01-16': 0.0,\n",
       "  '2017-01-17': 0.0,\n",
       "  '2017-01-18': 0.07,\n",
       "  '2017-01-19': 0.02,\n",
       "  '2017-01-20': 0.0,\n",
       "  '2017-01-21': 0.27999999999999997,\n",
       "  '2017-01-22': 1.02,\n",
       "  '2017-01-23': 0.94,\n",
       "  '2017-01-24': 2.25,\n",
       "  '2017-01-25': 3.58,\n",
       "  '2017-01-26': 0.11,\n",
       "  '2017-01-27': 0.06,\n",
       "  '2017-01-28': 0.14,\n",
       "  '2017-01-29': 0.99,\n",
       "  '2017-01-30': 0.05,\n",
       "  '2017-01-31': 0.0,\n",
       "  '2017-02-01': 0.0,\n",
       "  '2017-02-02': 0.0,\n",
       "  '2017-02-03': 0.0,\n",
       "  '2017-02-04': 0.0,\n",
       "  '2017-02-05': 0.0,\n",
       "  '2017-02-06': 0.38,\n",
       "  '2017-02-07': 7.4,\n",
       "  '2017-02-08': 1.08,\n",
       "  '2017-02-09': 0.02,\n",
       "  '2017-02-10': 0.0,\n",
       "  '2017-02-11': 11.2,\n",
       "  '2017-02-12': 10.48,\n",
       "  '2017-02-13': 2.9199999999999995,\n",
       "  '2017-02-14': 0.01,\n",
       "  '2017-02-15': 0.08,\n",
       "  '2017-02-16': 2.2199999999999998,\n",
       "  '2017-02-17': 1.05,\n",
       "  '2017-02-18': 0.01,\n",
       "  '2017-02-19': 0.19,\n",
       "  '2017-02-20': 0.0,\n",
       "  '2017-02-21': 0.13,\n",
       "  '2017-02-22': 0.9099999999999999,\n",
       "  '2017-02-23': 0.01,\n",
       "  '2017-02-24': 0.0,\n",
       "  '2017-02-25': 0.15,\n",
       "  '2017-02-26': 0.0,\n",
       "  '2017-02-27': 0.0,\n",
       "  '2017-02-28': 0.8200000000000001,\n",
       "  '2017-03-01': 11.620000000000001,\n",
       "  '2017-03-02': 6.5600000000000005,\n",
       "  '2017-03-03': 2.2300000000000004,\n",
       "  '2017-03-04': 0.0,\n",
       "  '2017-03-05': 1.21,\n",
       "  '2017-03-06': 0.54,\n",
       "  '2017-03-07': 0.0,\n",
       "  '2017-03-08': 0.0,\n",
       "  '2017-03-09': 1.96,\n",
       "  '2017-03-10': 0.29000000000000004,\n",
       "  '2017-03-11': 0.04,\n",
       "  '2017-03-12': 0.0,\n",
       "  '2017-03-13': 0.0,\n",
       "  '2017-03-14': 0.06,\n",
       "  '2017-03-15': 0.06,\n",
       "  '2017-03-16': 0.0,\n",
       "  '2017-03-17': 0.72,\n",
       "  '2017-03-18': 0.0,\n",
       "  '2017-03-19': 0.0,\n",
       "  '2017-03-20': 0.02,\n",
       "  '2017-03-21': 0.09,\n",
       "  '2017-03-22': 0.0,\n",
       "  '2017-03-23': 0.05,\n",
       "  '2017-03-24': 1.1300000000000001,\n",
       "  '2017-03-25': 1.9700000000000002,\n",
       "  '2017-03-26': 0.0,\n",
       "  '2017-03-27': 0.01,\n",
       "  '2017-03-28': 0.7100000000000001,\n",
       "  '2017-03-29': 0.19,\n",
       "  '2017-03-30': 0.15,\n",
       "  '2017-03-31': 0.01,\n",
       "  '2017-04-01': 0.41000000000000003,\n",
       "  '2017-04-02': 0.0,\n",
       "  '2017-04-03': 0.66,\n",
       "  '2017-04-04': 0.15,\n",
       "  '2017-04-05': 0.6600000000000001,\n",
       "  '2017-04-06': 0.06,\n",
       "  '2017-04-07': 0.0,\n",
       "  '2017-04-08': 0.0,\n",
       "  '2017-04-09': 0.0,\n",
       "  '2017-04-10': 0.02,\n",
       "  '2017-04-11': 0.47,\n",
       "  '2017-04-12': 1.08,\n",
       "  '2017-04-13': 1.0899999999999999,\n",
       "  '2017-04-14': 6.72,\n",
       "  '2017-04-15': 1.74,\n",
       "  '2017-04-16': 1.07,\n",
       "  '2017-04-17': 3.0700000000000003,\n",
       "  '2017-04-18': 3.36,\n",
       "  '2017-04-19': 0.2,\n",
       "  '2017-04-20': 0.78,\n",
       "  '2017-04-21': 8.38,\n",
       "  '2017-04-22': 4.96,\n",
       "  '2017-04-23': 0.45999999999999996,\n",
       "  '2017-04-24': 0.060000000000000005,\n",
       "  '2017-04-25': 0.0,\n",
       "  '2017-04-26': 0.39,\n",
       "  '2017-04-27': 0.42000000000000004,\n",
       "  '2017-04-28': 4.24,\n",
       "  '2017-04-29': 8.04,\n",
       "  '2017-04-30': 6.420000000000001,\n",
       "  '2017-05-01': 0.81,\n",
       "  '2017-05-02': 0.05,\n",
       "  '2017-05-03': 0.03,\n",
       "  '2017-05-04': 0.08,\n",
       "  '2017-05-05': 0.38,\n",
       "  '2017-05-06': 0.06,\n",
       "  '2017-05-07': 0.12000000000000001,\n",
       "  '2017-05-08': 3.01,\n",
       "  '2017-05-09': 4.630000000000001,\n",
       "  '2017-05-10': 0.8600000000000001,\n",
       "  '2017-05-11': 0.6000000000000001,\n",
       "  '2017-05-12': 0.16,\n",
       "  '2017-05-13': 0.24,\n",
       "  '2017-05-14': 1.22,\n",
       "  '2017-05-15': 0.88,\n",
       "  '2017-05-16': 0.42,\n",
       "  '2017-05-17': 0.15000000000000002,\n",
       "  '2017-05-18': 0.85,\n",
       "  '2017-05-19': 0.04,\n",
       "  '2017-05-20': 0.03,\n",
       "  '2017-05-21': 0.01,\n",
       "  '2017-05-22': 0.36,\n",
       "  '2017-05-23': 0.71,\n",
       "  '2017-05-24': 3.8899999999999997,\n",
       "  '2017-05-25': 2.2199999999999998,\n",
       "  '2017-05-26': 0.02,\n",
       "  '2017-05-27': 0.51,\n",
       "  '2017-05-28': 0.41000000000000003,\n",
       "  '2017-05-29': 0.42000000000000004,\n",
       "  '2017-05-30': 1.7300000000000002,\n",
       "  '2017-05-31': 0.37,\n",
       "  '2017-06-01': 0.04,\n",
       "  '2017-06-02': 0.33999999999999997,\n",
       "  '2017-06-03': 0.61,\n",
       "  '2017-06-04': 1.1500000000000001,\n",
       "  '2017-06-05': 0.08,\n",
       "  '2017-06-06': 0.0,\n",
       "  '2017-06-07': 0.01,\n",
       "  '2017-06-08': 0.03,\n",
       "  '2017-06-09': 0.04,\n",
       "  '2017-06-10': 1.53,\n",
       "  '2017-06-11': 2.1500000000000004,\n",
       "  '2017-06-12': 1.75,\n",
       "  '2017-06-13': 1.38,\n",
       "  '2017-06-14': 1.57,\n",
       "  '2017-06-15': 2.71,\n",
       "  '2017-06-16': 0.19999999999999998,\n",
       "  '2017-06-17': 0.54,\n",
       "  '2017-06-18': 1.42,\n",
       "  '2017-06-19': 0.7300000000000001,\n",
       "  '2017-06-20': 0.55,\n",
       "  '2017-06-21': 0.51,\n",
       "  '2017-06-22': 0.44,\n",
       "  '2017-06-23': 0.67,\n",
       "  '2017-06-24': 0.64,\n",
       "  '2017-06-25': 0.6,\n",
       "  '2017-06-26': 0.1,\n",
       "  '2017-06-27': 0.11,\n",
       "  '2017-06-28': 0.03,\n",
       "  '2017-06-29': 0.07,\n",
       "  '2017-06-30': 0.52,\n",
       "  '2017-07-01': 0.26,\n",
       "  '2017-07-02': 0.72,\n",
       "  '2017-07-03': 0.7400000000000001,\n",
       "  '2017-07-04': 0.15,\n",
       "  '2017-07-05': 0.0,\n",
       "  '2017-07-06': 0.02,\n",
       "  '2017-07-07': 0.5,\n",
       "  '2017-07-08': 0.1,\n",
       "  '2017-07-09': 0.2,\n",
       "  '2017-07-10': 0.04,\n",
       "  '2017-07-11': 0.03,\n",
       "  '2017-07-12': 0.36000000000000004,\n",
       "  '2017-07-13': 1.81,\n",
       "  '2017-07-14': 0.9500000000000002,\n",
       "  '2017-07-15': 0.19,\n",
       "  '2017-07-16': 0.81,\n",
       "  '2017-07-17': 0.91,\n",
       "  '2017-07-18': 2.53,\n",
       "  '2017-07-19': 0.41000000000000003,\n",
       "  '2017-07-20': 1.24,\n",
       "  '2017-07-21': 0.13,\n",
       "  '2017-07-22': 4.42,\n",
       "  '2017-07-23': 1.1300000000000001,\n",
       "  '2017-07-24': 3.2699999999999996,\n",
       "  '2017-07-25': 0.61,\n",
       "  '2017-07-26': 0.5,\n",
       "  '2017-07-27': 0.01,\n",
       "  '2017-07-28': 0.77,\n",
       "  '2017-07-29': 0.61,\n",
       "  '2017-07-30': 0.3,\n",
       "  '2017-07-31': 0.0,\n",
       "  '2017-08-01': 0.13999999999999999,\n",
       "  '2017-08-02': 0.3,\n",
       "  '2017-08-03': 0.06999999999999999,\n",
       "  '2017-08-04': 0.06,\n",
       "  '2017-08-05': 0.06,\n",
       "  '2017-08-06': 0.0,\n",
       "  '2017-08-07': 0.05,\n",
       "  '2017-08-08': 0.44000000000000006,\n",
       "  '2017-08-09': 0.15,\n",
       "  '2017-08-10': 0.07,\n",
       "  '2017-08-11': 0.0,\n",
       "  '2017-08-12': 0.14,\n",
       "  '2017-08-13': 0.0,\n",
       "  '2017-08-14': 0.31,\n",
       "  '2017-08-15': 0.8200000000000001,\n",
       "  '2017-08-16': 0.6100000000000001,\n",
       "  '2017-08-17': 0.19,\n",
       "  '2017-08-18': 0.06,\n",
       "  '2017-08-19': 0.09,\n",
       "  '2017-08-20': 0.01,\n",
       "  '2017-08-21': 0.5800000000000001,\n",
       "  '2017-08-22': 0.5,\n",
       "  '2017-08-23': 0.53}}"
      ]
     },
     "execution_count": 333,
     "metadata": {},
     "output_type": "execute_result"
    }
   ],
   "source": [
    "precip_df.set_index(\"date\").to_dict()"
   ]
  },
  {
   "cell_type": "code",
   "execution_count": 231,
   "metadata": {},
   "outputs": [
    {
     "data": {
      "text/plain": [
       "<matplotlib.legend.Legend at 0x14f35bd68>"
      ]
     },
     "execution_count": 231,
     "metadata": {},
     "output_type": "execute_result"
    },
    {
     "data": {
      "image/png": "[encoded data removed]",
      "text/plain": [
       "<Figure size 1080x720 with 1 Axes>"
      ]
     },
     "metadata": {},
     "output_type": "display_data"
    }
   ],
   "source": [
    "# Use Pandas Plotting with Matplotlib to plot the data\n",
    "\n",
    "plt.figure(figsize=(15,10))\n",
    "plt.bar(precip_df['date'], precip_df['prcp'], width=4, label='precipitation')\n",
    "plt.ylim(0,15)\n",
    "plt.xlabel(\"Date\")\n",
    "plt.grid(True)\n",
    "plt.xticks([])\n",
    "plt.legend(loc=\"upper center\")"
   ]
  },
  {
   "cell_type": "code",
   "execution_count": 232,
   "metadata": {},
   "outputs": [
    {
     "data": {
      "text/html": [
       "<div>\n",
       "<style scoped>\n",
       "    .dataframe tbody tr th:only-of-type {\n",
       "        vertical-align: middle;\n",
       "    }\n",
       "\n",
       "    .dataframe tbody tr th {\n",
       "        vertical-align: top;\n",
       "    }\n",
       "\n",
       "    .dataframe thead th {\n",
       "        text-align: right;\n",
       "    }\n",
       "</style>\n",
       "<table border=\"1\" class=\"dataframe\">\n",
       "  <thead>\n",
       "    <tr style=\"text-align: right;\">\n",
       "      <th></th>\n",
       "      <th>prcp</th>\n",
       "    </tr>\n",
       "  </thead>\n",
       "  <tbody>\n",
       "    <tr>\n",
       "      <th>count</th>\n",
       "      <td>366.000000</td>\n",
       "    </tr>\n",
       "    <tr>\n",
       "      <th>mean</th>\n",
       "      <td>0.978907</td>\n",
       "    </tr>\n",
       "    <tr>\n",
       "      <th>std</th>\n",
       "      <td>1.776349</td>\n",
       "    </tr>\n",
       "    <tr>\n",
       "      <th>min</th>\n",
       "      <td>0.000000</td>\n",
       "    </tr>\n",
       "    <tr>\n",
       "      <th>25%</th>\n",
       "      <td>0.052500</td>\n",
       "    </tr>\n",
       "    <tr>\n",
       "      <th>50%</th>\n",
       "      <td>0.405000</td>\n",
       "    </tr>\n",
       "    <tr>\n",
       "      <th>75%</th>\n",
       "      <td>1.087500</td>\n",
       "    </tr>\n",
       "    <tr>\n",
       "      <th>max</th>\n",
       "      <td>14.280000</td>\n",
       "    </tr>\n",
       "  </tbody>\n",
       "</table>\n",
       "</div>"
      ],
      "text/plain": [
       "             prcp\n",
       "count  366.000000\n",
       "mean     0.978907\n",
       "std      1.776349\n",
       "min      0.000000\n",
       "25%      0.052500\n",
       "50%      0.405000\n",
       "75%      1.087500\n",
       "max     14.280000"
      ]
     },
     "execution_count": 232,
     "metadata": {},
     "output_type": "execute_result"
    }
   ],
   "source": [
    "precip_df.describe()"
   ]
  },
  {
   "cell_type": "code",
   "execution_count": 339,
   "metadata": {},
   "outputs": [
    {
     "name": "stdout",
     "output_type": "stream",
     "text": [
      "('USC00519397',)\n",
      "('USC00513117',)\n",
      "('USC00514830',)\n",
      "('USC00517948',)\n",
      "('USC00518838',)\n",
      "('USC00519523',)\n",
      "('USC00519281',)\n",
      "('USC00511918',)\n",
      "('USC00516128',)\n"
     ]
    }
   ],
   "source": [
    " sql = text('SELECT DISTINCT station FROM measurement')\n",
    "result = engine.execute(sql).fetchall()\n",
    "names = [row for row in result]\n",
    "for record in result:\n",
    "    print(record)"
   ]
  },
  {
   "cell_type": "code",
   "execution_count": 233,
   "metadata": {},
   "outputs": [
    {
     "name": "stdout",
     "output_type": "stream",
     "text": [
      "9\n"
     ]
    }
   ],
   "source": [
    "# Design a query to show how many stations are available in this dataset?\n",
    "result = engine.execute(\"SELECT COUNT(DISTINCT station) FROM Station\")\n",
    "for record in result:\n",
    "    print(record[0])"
   ]
  },
  {
   "cell_type": "code",
   "execution_count": 234,
   "metadata": {},
   "outputs": [
    {
     "name": "stdout",
     "output_type": "stream",
     "text": [
      "('USC00519281', 2772)\n",
      "('USC00519397', 2724)\n",
      "('USC00513117', 2709)\n",
      "('USC00519523', 2669)\n",
      "('USC00516128', 2612)\n",
      "('USC00514830', 2202)\n",
      "('USC00511918', 1979)\n",
      "('USC00517948', 1372)\n",
      "('USC00518838', 511)\n"
     ]
    }
   ],
   "source": [
    "# What are the most active stations? (i.e. what stations have the most rows)?\n",
    "# List the stations and the counts in descending order.\n",
    "result = engine.execute(\"SELECT station, count(*) as row_count \\\n",
    "    FROM measurement \\\n",
    "    GROUP BY station \\\n",
    "    ORDER BY row_count DESC\")\n",
    "for record in result:\n",
    "    print(record)"
   ]
  },
  {
   "cell_type": "code",
   "execution_count": 235,
   "metadata": {},
   "outputs": [
    {
     "name": "stdout",
     "output_type": "stream",
     "text": [
      "('USC00519281', 2772, 54.0, 85.0, 71.66378066378067)\n",
      "('USC00519397', 2724, 56.0, 87.0, 74.55323054331865)\n",
      "('USC00513117', 2709, 59.0, 85.0, 72.68918420081211)\n",
      "('USC00519523', 2669, 56.0, 85.0, 74.5436493068565)\n",
      "('USC00516128', 2612, 58.0, 84.0, 70.91500765696784)\n",
      "('USC00514830', 2202, 58.0, 85.0, 74.8732970027248)\n",
      "('USC00511918', 1979, 53.0, 87.0, 71.61596766043456)\n",
      "('USC00517948', 1372, 58.0, 87.0, 74.68440233236151)\n",
      "('USC00518838', 511, 58.0, 83.0, 72.72407045009784)\n"
     ]
    }
   ],
   "source": [
    "# Using the station id from the previous query, calculate the lowest temperature recorded, \n",
    "# highest temperature recorded, and average temperature most active station?\n",
    "\n",
    "\n",
    "result = engine.execute(\"SELECT station, count(*) as observation_count, min(tobs) as min_temp, \\\n",
    "    max(tobs) as max_temp, avg(tobs) as avg_temp FROM Measurement GROUP BY station ORDER BY observation_count DESC\")\n",
    "for record in result:\n",
    "    print(record)"
   ]
  },
  {
   "cell_type": "code",
   "execution_count": 252,
   "metadata": {},
   "outputs": [
    {
     "data": {
      "text/html": [
       "<div>\n",
       "<style scoped>\n",
       "    .dataframe tbody tr th:only-of-type {\n",
       "        vertical-align: middle;\n",
       "    }\n",
       "\n",
       "    .dataframe tbody tr th {\n",
       "        vertical-align: top;\n",
       "    }\n",
       "\n",
       "    .dataframe thead th {\n",
       "        text-align: right;\n",
       "    }\n",
       "</style>\n",
       "<table border=\"1\" class=\"dataframe\">\n",
       "  <thead>\n",
       "    <tr style=\"text-align: right;\">\n",
       "      <th></th>\n",
       "      <th>date</th>\n",
       "      <th>temp</th>\n",
       "    </tr>\n",
       "  </thead>\n",
       "  <tbody>\n",
       "    <tr>\n",
       "      <th>0</th>\n",
       "      <td>2016-08-18</td>\n",
       "      <td>80.0</td>\n",
       "    </tr>\n",
       "    <tr>\n",
       "      <th>1</th>\n",
       "      <td>2016-08-19</td>\n",
       "      <td>79.0</td>\n",
       "    </tr>\n",
       "    <tr>\n",
       "      <th>2</th>\n",
       "      <td>2016-08-20</td>\n",
       "      <td>81.0</td>\n",
       "    </tr>\n",
       "    <tr>\n",
       "      <th>3</th>\n",
       "      <td>2016-08-21</td>\n",
       "      <td>79.0</td>\n",
       "    </tr>\n",
       "    <tr>\n",
       "      <th>4</th>\n",
       "      <td>2016-08-22</td>\n",
       "      <td>78.0</td>\n",
       "    </tr>\n",
       "    <tr>\n",
       "      <th>5</th>\n",
       "      <td>2016-08-23</td>\n",
       "      <td>77.0</td>\n",
       "    </tr>\n",
       "    <tr>\n",
       "      <th>6</th>\n",
       "      <td>2016-08-24</td>\n",
       "      <td>77.0</td>\n",
       "    </tr>\n",
       "    <tr>\n",
       "      <th>7</th>\n",
       "      <td>2016-08-25</td>\n",
       "      <td>80.0</td>\n",
       "    </tr>\n",
       "    <tr>\n",
       "      <th>8</th>\n",
       "      <td>2016-08-26</td>\n",
       "      <td>80.0</td>\n",
       "    </tr>\n",
       "    <tr>\n",
       "      <th>9</th>\n",
       "      <td>2016-08-27</td>\n",
       "      <td>75.0</td>\n",
       "    </tr>\n",
       "    <tr>\n",
       "      <th>10</th>\n",
       "      <td>2016-08-28</td>\n",
       "      <td>73.0</td>\n",
       "    </tr>\n",
       "    <tr>\n",
       "      <th>11</th>\n",
       "      <td>2016-08-29</td>\n",
       "      <td>78.0</td>\n",
       "    </tr>\n",
       "    <tr>\n",
       "      <th>12</th>\n",
       "      <td>2016-08-30</td>\n",
       "      <td>77.0</td>\n",
       "    </tr>\n",
       "    <tr>\n",
       "      <th>13</th>\n",
       "      <td>2016-08-31</td>\n",
       "      <td>78.0</td>\n",
       "    </tr>\n",
       "    <tr>\n",
       "      <th>14</th>\n",
       "      <td>2016-09-01</td>\n",
       "      <td>80.0</td>\n",
       "    </tr>\n",
       "  </tbody>\n",
       "</table>\n",
       "</div>"
      ],
      "text/plain": [
       "          date  temp\n",
       "0   2016-08-18  80.0\n",
       "1   2016-08-19  79.0\n",
       "2   2016-08-20  81.0\n",
       "3   2016-08-21  79.0\n",
       "4   2016-08-22  78.0\n",
       "5   2016-08-23  77.0\n",
       "6   2016-08-24  77.0\n",
       "7   2016-08-25  80.0\n",
       "8   2016-08-26  80.0\n",
       "9   2016-08-27  75.0\n",
       "10  2016-08-28  73.0\n",
       "11  2016-08-29  78.0\n",
       "12  2016-08-30  77.0\n",
       "13  2016-08-31  78.0\n",
       "14  2016-09-01  80.0"
      ]
     },
     "execution_count": 252,
     "metadata": {},
     "output_type": "execute_result"
    }
   ],
   "source": [
    "# Choose the station with the highest number of temperature observations.\n",
    "# Query the last 12 months of temperature observation data for this station and plot the results as a histogram\n",
    "\n",
    "station = []\n",
    "\n",
    "for row in session.query(Measurement).filter(Measurement.station == 'USC00519281').all():\n",
    "        station.append({\n",
    "            \"date\": row.date,\n",
    "            \"temp\": row.tobs\n",
    "        })\n",
    "\n",
    "# Create dataframe from all records.\n",
    "station_df = pd.DataFrame.from_records(station)\n",
    "\n",
    "# Add new column converting date string to datetime format.\n",
    "station_df['datetime'] = pd.to_datetime(station_df['date'], format='%Y-%m-%d')\n",
    "\n",
    "# Determine the most recent date.\n",
    "max_date = station_df.datetime.max()\n",
    "\n",
    "# If the row's date is within a year of the most recent date, mark as True else False.\n",
    "station_df['include_flag'] = station_df['datetime'].apply(lambda x: True if max_date - x <= timedelta(days=365) else False) \n",
    "\n",
    "# Filter the dataframe for only the lase year of data.\n",
    "station_df.query('include_flag == True', inplace=True)\n",
    "\n",
    "# Sort dates in ascending order.\n",
    "station_df.sort_values('date',inplace=True)\n",
    "\n",
    "# Aggregate prcp by date.\n",
    "station_df = station_df[['date','temp']].groupby(['date']).agg({'temp': 'sum'}).reset_index()\n",
    "\n",
    "station_df.head(15)\n"
   ]
  },
  {
   "cell_type": "code",
   "execution_count": 327,
   "metadata": {},
   "outputs": [
    {
     "data": {
      "text/plain": [
       "Text(0.5,1,'Temperature Frequency')"
      ]
     },
     "execution_count": 327,
     "metadata": {},
     "output_type": "execute_result"
    },
    {
     "data": {
      "image/png": "[encoded data removed]",
      "text/plain": [
       "<Figure size 432x288 with 1 Axes>"
      ]
     },
     "metadata": {},
     "output_type": "display_data"
    }
   ],
   "source": [
    "station_df.hist(label='temperature', bins=12)\n",
    "plt.legend(loc=\"upper center\")\n",
    "plt.ylabel(\"Frequency\")\n",
    "plt.legend(loc=\"upper left\")\n",
    "plt.title(\"Temperature Frequency\")"
   ]
  },
  {
   "cell_type": "code",
   "execution_count": 264,
   "metadata": {},
   "outputs": [
    {
     "name": "stdout",
     "output_type": "stream",
     "text": [
      "[(62.0, 69.57142857142857, 74.0)]\n"
     ]
    }
   ],
   "source": [
    "# This function called `calc_temps` will accept start date and end date in the format '%Y-%m-%d' \n",
    "# and return the minimum, average, and maximum temperatures for that range of dates\n",
    "def calc_temps(start_date, end_date):\n",
    "    \"\"\"TMIN, TAVG, and TMAX for a list of dates.\n",
    "    \n",
    "    Args:\n",
    "        start_date (string): A date string in the format %Y-%m-%d\n",
    "        end_date (string): A date string in the format %Y-%m-%d\n",
    "        \n",
    "    Returns:\n",
    "        TMIN, TAVE, and TMAX\n",
    "    \"\"\"\n",
    "    \n",
    "    return session.query(func.min(Measurement.tobs), func.avg(Measurement.tobs), func.max(Measurement.tobs)).\\\n",
    "        filter(Measurement.date >= start_date).filter(Measurement.date <= end_date).all()\n",
    "\n",
    "# function usage example\n",
    "print(calc_temps('2012-02-28', '2012-03-05'))"
   ]
  },
  {
   "cell_type": "code",
   "execution_count": null,
   "metadata": {},
   "outputs": [],
   "source": []
  },
  {
   "cell_type": "code",
   "execution_count": 290,
   "metadata": {},
   "outputs": [
    {
     "name": "stdout",
     "output_type": "stream",
     "text": [
      "[(59.0, 74.11674478057094, 84.0)]\n"
     ]
    }
   ],
   "source": [
    "# Use your previous function `calc_temps` to calculate the tmin, tavg, and tmax \n",
    "# for your trip using the previous year's data for those same dates.\n",
    "\n",
    "results = calc_temps('2016-02-28', '2017-03-05')\n",
    "\n",
    "errorbar_min = results[0][0]\n",
    "errorbar_max = results[0][2]\n",
    "avg_temp = results[0][1]\n",
    "\n",
    "print(calc_temps('2016-02-28', '2017-03-05'))"
   ]
  },
  {
   "cell_type": "code",
   "execution_count": 330,
   "metadata": {},
   "outputs": [
    {
     "data": {
      "image/png": "[encoded data removed]",
      "text/plain": [
       "<Figure size 216x360 with 1 Axes>"
      ]
     },
     "metadata": {},
     "output_type": "display_data"
    }
   ],
   "source": [
    "# Plot the results from your previous query as a bar chart. \n",
    "# Use \"Trip Avg Temp\" as your Title\n",
    "# Use the average temperature for the y value\n",
    "# Use the peak-to-peak (tmax-tmin) value as the y error bar (yerr)\n",
    "\n",
    "\n",
    "fig, ax = plt.subplots(figsize=(3,5))\n",
    "#ax.set_xticks(index)\n",
    "#ax.set_xticklabels(df1.columns)\n",
    "plt.bar(1,avg_temp, yerr=errorbar_max-errorbar_min, alpha=.5, color='orange', capsize=5)\n",
    "plt.xlim(.5,1.5)\n",
    "plt.ylim(0,130)\n",
    "plt.grid(True)\n",
    "plt.xticks([])\n",
    "plt.title(\"Trip Avg Temp\")\n",
    "plt.ylabel(\"Temp (F)\")\n",
    "plt.tight_layout()\n",
    "plt.show()\n"
   ]
  },
  {
   "cell_type": "code",
   "execution_count": 326,
   "metadata": {},
   "outputs": [
    {
     "name": "stdout",
     "output_type": "stream",
     "text": [
      "('USC00516128', 'MANOA LYON ARBO 785.2, HI US', 21.3331, -157.8025, 152.4, 173.84)\n",
      "('USC00519281', 'WAIHEE 837.5, HI US', 21.45167, -157.84888999999998, 32.9, 89.39000000000003)\n",
      "('USC00513117', 'KANEOHE 838.1, HI US', 21.4234, -157.8015, 14.6, 62.55000000000002)\n",
      "('USC00519523', 'WAIMANALO EXPERIMENTAL FARM, HI US', 21.33556, -157.71139, 19.5, 40.01)\n",
      "('USC00514830', 'KUALOA RANCH HEADQUARTERS 886.9, HI US', 21.5213, -157.8374, 7.0, 32.29)\n",
      "('USC00519397', 'WAIKIKI 717.2, HI US', 21.2716, -157.8168, 3.0, 22.129999999999995)\n",
      "('USC00517948', 'PEARL CITY, HI US', 21.3934, -157.9751, 11.9, 6.17)\n"
     ]
    }
   ],
   "source": [
    "# Calculate the rainfall per weather station for your trip dates using the previous year's matching dates.\n",
    "# Sort this in descending order by precipitation amount and list the station, name, latitude, longitude, and elevation\n",
    "\n",
    "\n",
    "#[('USC00516128', 'MANOA LYON ARBO 785.2, HI US', 21.3331, -157.8025, 152.4, 0.31), ('USC00519281', 'WAIHEE 837.5, HI US', 21.45167, -157.84888999999998, 32.9, 0.25), ('USC00518838', 'UPPER WAHIAWA 874.3, HI US', 21.4992, -158.0111, 306.6, 0.1), ('USC00513117', 'KANEOHE 838.1, HI US', 21.4234, -157.8015, 14.6, 0.060000000000000005), ('USC00511918', 'HONOLULU OBSERVATORY 702.2, HI US', 21.3152, -157.9992, 0.9, 0.0), ('USC00514830', 'KUALOA RANCH HEADQUARTERS 886.9, HI US', 21.5213, -157.8374, 7.0, 0.0), ('USC00517948', 'PEARL CITY, HI US', 21.3934, -157.9751, 11.9, 0.0), ('USC00519397', 'WAIKIKI 717.2, HI US', 21.2716, -157.8168, 3.0, 0.0), ('USC00519523', 'WAIMANALO EXPERIMENTAL FARM, HI US', 21.33556, -157.71139, 19.5, 0.0)]\n",
    "\n",
    "result = engine.execute(\"SELECT station.station, station.name, station.latitude, \\\n",
    "    station.longitude, station.elevation, sum(measurement.prcp) \\\n",
    "    as rainfall FROM station INNER JOIN measurement on station.station \\\n",
    "    = measurement.station WHERE measurement .date BETWEEN '2016-02-28' AND \\\n",
    "    '2017-03-05'GROUP BY station.station ORDER BY rainfall DESC\")\n",
    "for record in result:\n",
    "    print(record)"
   ]
  }
 ],
 "metadata": {
  "kernel_info": {
   "name": "python3"
  },
  "kernelspec": {
   "display_name": "Python 3",
   "language": "python",
   "name": "python3"
  },
  "language_info": {
   "codemirror_mode": {
    "name": "ipython",
    "version": 3
   },
   "file_extension": ".py",
   "mimetype": "text/x-python",
   "name": "python",
   "nbconvert_exporter": "python",
   "pygments_lexer": "ipython3",
   "version": "3.6.5"
  },
  "nteract": {
   "version": "0.9.1"
  },
  "varInspector": {
   "cols": {
    "lenName": 16,
    "lenType": 16,
    "lenVar": 40
   },
   "kernels_config": {
    "python": {
     "delete_cmd_postfix": "",
     "delete_cmd_prefix": "del ",
     "library": "var_list.py",
     "varRefreshCmd": "print(var_dic_list())"
    },
    "r": {
     "delete_cmd_postfix": ") ",
     "delete_cmd_prefix": "rm(",
     "library": "var_list.r",
     "varRefreshCmd": "cat(var_dic_list()) "
    }
   },
   "types_to_exclude": [
    "module",
    "function",
    "builtin_function_or_method",
    "instance",
    "_Feature"
   ],
   "window_display": false
  }
 },
 "nbformat": 4,
 "nbformat_minor": 2
}
