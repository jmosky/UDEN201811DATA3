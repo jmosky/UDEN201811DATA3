{
 "cells": [
  {
   "cell_type": "code",
   "execution_count": 1,
   "metadata": {},
   "outputs": [],
   "source": [
    "# Model for refactoring to push data to Sqlite in v2.\n",
    "# http://localhost:8888/notebooks/UDEN201811DATA3/Week13_ETLPROJECT/1/Activities/01-Ins_ETL_Pandas/Solved/data_etl.ipynb"
   ]
  },
  {
   "cell_type": "code",
   "execution_count": 2,
   "metadata": {},
   "outputs": [],
   "source": [
    "import requests\n",
    "import pandas as pd\n",
    "# import sqlalchemy\n",
    "# from sqlalchemy.ext.automap import automap_base\n",
    "# from sqlalchemy.orm import Session\n",
    "# from sqlalchemy import create_engine, inspect"
   ]
  },
  {
   "cell_type": "markdown",
   "metadata": {},
   "source": [
    "# OSMP Trails\n",
    "\n",
    "**Informational URL:* https://bouldercolorado.gov/open-data/city-of-boulder-osmp-trails/"
   ]
  },
  {
   "cell_type": "code",
   "execution_count": 3,
   "metadata": {
    "scrolled": false
   },
   "outputs": [],
   "source": [
    "url_trails = \"https://www-static.bouldercolorado.gov/docs/opendata/OSMPTrails.GeoJSON?_ga=2.239917760.2110561214.1553967684-646607836.1553818032\"\n",
    "\n",
    "data = requests.get(url_trails)\n",
    "data = data.json().get('features')\n",
    "df = pd.DataFrame.from_records(data)\n",
    "\n",
    "# Break out data nested in columns into individual columns.\n",
    "# Extract data from dictionaries within each dataframe column.\n",
    "# Add those values as new columns.\n",
    "df2 = df[\"geometry\"].apply(pd.Series)\n",
    "df3 = df[\"properties\"].apply(pd.Series)\n",
    "\n",
    "# We do not concatenate the original data back to the dataframe.\n",
    "# Thus, df is missing from the next line.\n",
    "df = pd.concat([df2, df3], axis=1)\n",
    "\n",
    "# Add new columns to break numeric keys into quartiles.\n",
    "# This makes it easier to summarize counts in the next cells.\n",
    "df['Mileage_Qcut'] = pd.qcut(df['Mileage'], 4)\n",
    "\n",
    "df.to_csv(\"resources/trails.csv\",index=True)\n"
   ]
  },
  {
   "cell_type": "code",
   "execution_count": 4,
   "metadata": {},
   "outputs": [],
   "source": [
    "url_master_plan = \"https://www-static.bouldercolorado.gov/docs/opendata/OSMPManagementAreas.GeoJSON?_ga=2.177582950.2110561214.1553967684-646607836.1553818032\"\n",
    "\n",
    "# response.encoding = 'utf-8'\n",
    "#data = data.content.decode('utf-8') \n",
    "\n",
    "data = requests.get(url_master_plan)\n",
    "data = data.json().get(\"features\")\n",
    "df = pd.DataFrame.from_records(data)\n",
    "\n",
    "# Break out data nested in columns into individual columns.\n",
    "# Extract data from dictionaries within each dataframe column.\n",
    "# Add those values as new columns.\n",
    "df2 = df[\"geometry\"].apply(pd.Series)\n",
    "df3 = df[\"properties\"].apply(pd.Series)\n",
    "\n",
    "# We do not concatenate the original data back to the dataframe.\n",
    "# Thus, df is missing from the next line.\n",
    "df = pd.concat([df2, df3], axis=1)\n",
    "\n",
    "# Add new columns to break numeric keys into quartiles.\n",
    "# This makes it easier to summarize counts in the next cells.\n",
    "df['Acres_Qcut'] = pd.qcut(df['Acres'], 4)\n",
    "df['Hectares_Qcut'] = pd.qcut(df['Hectares'], 4)\n",
    "\n",
    "df.to_csv(\"resources/visitor_master_plan.csv\",index=True)\n"
   ]
  },
  {
   "cell_type": "code",
   "execution_count": 7,
   "metadata": {},
   "outputs": [],
   "source": [
    "url_lands = \"https://www-static.bouldercolorado.gov/docs/opendata/OSMPLands.GeoJSON?_ga=2.72783824.2110561214.1553967684-646607836.1553818032\"\n",
    "\n",
    "data = requests.get(url_lands)\n",
    "data = data.json().get('features')\n",
    "df = pd.DataFrame.from_records(data)\n",
    "\n",
    "# Break out data nested in columns into individual columns.\n",
    "# Extract data from dictionaries within each dataframe column.\n",
    "# Add those values as new columns.\n",
    "df2 = df[\"geometry\"].apply(pd.Series)\n",
    "df3 = df[\"properties\"].apply(pd.Series)\n",
    "\n",
    "# We do not concatenate the original data back to the dataframe.\n",
    "# Thus, df is missing from the next line.\n",
    "df = pd.concat([df2, df3], axis=1)\n",
    "\n",
    "# Add new columns to break numeric keys into quartiles.\n",
    "# This makes it easier to summarize counts in the next cells.\n",
    "df['Acres_Qcut'] = pd.qcut(df['Acres'], 4)\n",
    "df['Hectares_Qcut'] = pd.qcut(df['Hectares'], 4)\n",
    "\n",
    "df.columns.values[18] = \"type_of_land\"\n",
    "\n",
    "df.to_csv(\"resources/osmp_lands.csv\",index=True)\n"
   ]
  },
  {
   "cell_type": "code",
   "execution_count": 6,
   "metadata": {},
   "outputs": [],
   "source": [
    "url_prarie_dogs = \"https://www-static.bouldercolorado.gov/docs/opendata/OSMPPrairieDogColonies.GeoJSON?_ga=2.72783824.2110561214.1553967684-646607836.1553818032\"\n",
    "\n",
    "data = requests.get(url_prarie_dogs)\n",
    "data = data.json().get('features')\n",
    "df = pd.DataFrame.from_records(data)\n",
    "\n",
    "# Break out data nested in columns into individual columns.\n",
    "# Extract data from dictionaries within each dataframe column.\n",
    "# Add those values as new columns.\n",
    "df2 = df[\"geometry\"].apply(pd.Series)\n",
    "df3 = df[\"properties\"].apply(pd.Series)\n",
    "\n",
    "# We do not concatenate the original data back to the dataframe.\n",
    "# Thus, df is missing from the next line.\n",
    "df = pd.concat([df2, df3], axis=1)\n",
    "\n",
    "# Add new columns to break numeric keys into quartiles.\n",
    "# This makes it easier to summarize counts in the next cells.\n",
    "df['Acres_Qcut'] = pd.qcut(df['Acres'], 4)\n",
    "df['Hectares_Qcut'] = pd.qcut(df['Hectares'], 4)\n",
    "\n",
    "df.to_csv(\"resources/prarie_dog_colonies.csv\",index=True)\n"
   ]
  },
  {
   "cell_type": "code",
   "execution_count": null,
   "metadata": {},
   "outputs": [],
   "source": []
  },
  {
   "cell_type": "code",
   "execution_count": null,
   "metadata": {},
   "outputs": [],
   "source": []
  }
 ],
 "metadata": {
  "kernelspec": {
   "display_name": "Python 2",
   "language": "python",
   "name": "python2"
  },
  "language_info": {
   "codemirror_mode": {
    "name": "ipython",
    "version": 2
   },
   "file_extension": ".py",
   "mimetype": "text/x-python",
   "name": "python",
   "nbconvert_exporter": "python",
   "pygments_lexer": "ipython2",
   "version": "2.7.15"
  }
 },
 "nbformat": 4,
 "nbformat_minor": 2
}
