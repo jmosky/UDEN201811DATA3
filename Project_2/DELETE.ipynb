{
 "cells": [
  {
   "cell_type": "code",
   "execution_count": 1,
   "metadata": {},
   "outputs": [],
   "source": [
    "from bs4 import BeautifulSoup\n",
    "import requests\n",
    "\n",
    "url = 'https://twitter.com/boulderosmp?ref_src=twsrc%5Egoogle%7Ctwcamp%5Eserp%7Ctwgr%5Eauthor'\n",
    "resp = requests.get(url)\n",
    "soup = BeautifulSoup(resp.content, \"html.parser\")\n",
    "\n",
    "def find_tweets(tweet_count):\n",
    "    content = []\n",
    "    for x in range(tweet_count):\n",
    "        tweet_text = soup.findAll(\"p\", attrs={\"class\": \"tweet-text\"})[x]\n",
    "        tweet_text = tweet_text.get_text()\n",
    "        tweet_text = str(tweet_text.encode(\"ascii\",\"ignore\"))\n",
    "        temp_dict = {\"text\": tweet_text}\n",
    "        content.append(temp_dict)\n",
    "    return content"
   ]
  },
  {
   "cell_type": "code",
   "execution_count": 2,
   "metadata": {},
   "outputs": [
    {
     "data": {
      "text/plain": [
       "[{'text': 'Check out our tips for gardening with native plants. Native plants are low care and unique to our area -- plus they provide birds, bees and butterflies the habitat they need to survive. http://ow.ly/HTzv30aFbCzpic.twitter.com/zRUmxnTnxt'},\n",
       " {'text': 'Today is the LAST DAY to share your input for how OSMP should prioritize your open space tax dollars over the next 10 years! Share your input by midnight, TONIGHT! CLICK: http://bit.ly/OSMP-Input6 #boco_trails #boulderpic.twitter.com/h2mAyq49Jj'},\n",
       " {'text': 'Dont forget to share your input on how OSMP should prioritize your open space tax dollars over the next 10 years! Share your input by midnight, Sunday, April 7! CLICK NOW: http://bit.ly/OSMP-Input6 #boco_trails #boulderpic.twitter.com/aBn3OnA2vl'},\n",
       " {'text': \"It's #EarthMonth in Boulder! Here are 10 actions you can take to help our planet: http://ow.ly/AXi830oiEdT.pic.twitter.com/fvGkTWemz4\"},\n",
       " {'text': 'OSMP muddy trails are now open. Please go through any remaining muddy spots. #boco_trails'}]"
      ]
     },
     "execution_count": 2,
     "metadata": {},
     "output_type": "execute_result"
    }
   ],
   "source": [
    "find_tweets(5)"
   ]
  },
  {
   "cell_type": "code",
   "execution_count": null,
   "metadata": {},
   "outputs": [],
   "source": []
  }
 ],
 "metadata": {
  "kernelspec": {
   "display_name": "Python 2",
   "language": "python",
   "name": "python2"
  },
  "language_info": {
   "codemirror_mode": {
    "name": "ipython",
    "version": 2
   },
   "file_extension": ".py",
   "mimetype": "text/x-python",
   "name": "python",
   "nbconvert_exporter": "python",
   "pygments_lexer": "ipython2",
   "version": "2.7.15"
  }
 },
 "nbformat": 4,
 "nbformat_minor": 2
}
