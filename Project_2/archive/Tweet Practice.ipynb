{
 "cells": [
  {
   "cell_type": "code",
   "execution_count": 47,
   "metadata": {},
   "outputs": [],
   "source": [
    "from bs4 import BeautifulSoup\n",
    "import requests\n",
    "\n",
    "url = 'https://twitter.com/boulderosmp?ref_src=twsrc%5Egoogle%7Ctwcamp%5Eserp%7Ctwgr%5Eauthor'\n",
    "resp = requests.get(url)\n",
    "soup = BeautifulSoup(resp.content, \"html.parser\")\n",
    "\n",
    "def find_tweets(tweet_count):\n",
    "    content = []\n",
    "    for x in range(tweet_count):\n",
    "        tweet_text = soup.findAll(\"p\", attrs={\"class\": \"tweet-text\"})[x]\n",
    "        tweet_text = tweet_text.get_text()\n",
    "        tweet_text = str(tweet_text.encode(\"ascii\",\"ignore\"))\n",
    "        \n",
    "        tweet_date = soup.find_all('a',{\"class\",\"tweet-timestamp js-permalink js-nav js-tooltip\"})\n",
    "        tweet_date = str(times[x]['title'].split(\"- \")[1])\n",
    "        \n",
    "        tweet_url = str(soup.findAll(\"a\", attrs={\"class\": \"twitter-timeline-link u-hidden\"})[x]['href'])\n",
    "        \n",
    "        tweet_text_for_site = tweet_date + \" - \" + tweet_text[0:100] + \"...  \"\n",
    "        temp_dict = {\"text\": tweet_text_for_site, \"url\": tweet_url}\n",
    "        content.append(temp_dict)\n",
    "    return content"
   ]
  },
  {
   "cell_type": "code",
   "execution_count": 48,
   "metadata": {},
   "outputs": [
    {
     "data": {
      "text/plain": [
       "[{'text': '11 Apr 2019 - Gregory Canyon Trailhead is now open again.https://twitter.com/boulderosmp/status/111635848622327399...  ',\n",
       "  'url': 'https://t.co/Rhz0iZFPJa'},\n",
       " {'text': '11 Apr 2019 - Gregory Canyon Trailhead is temporarily closed because of icy conditions. #boco_trails...  ',\n",
       "  'url': 'https://t.co/zRUmxnTnxt'},\n",
       " {'text': '10 Apr 2019 - OSMP muddy trail closures are being enacted this afternoon. Doudy Draw/Flatirons Vista, Marshall Mes...  ',\n",
       "  'url': 'https://t.co/h2mAyq49Jj'}]"
      ]
     },
     "execution_count": 48,
     "metadata": {},
     "output_type": "execute_result"
    }
   ],
   "source": []
  },
  {
   "cell_type": "code",
   "execution_count": 44,
   "metadata": {},
   "outputs": [
    {
     "data": {
      "text/plain": [
       "'11 Apr 2019 - OSMP muddy trail closures are being enacted this afternoon. Doudy Draw/Flatirons Vista, Marshall Mes...'"
      ]
     },
     "execution_count": 44,
     "metadata": {},
     "output_type": "execute_result"
    }
   ],
   "source": [
    "tweet_date = soup.find_all('a',{\"class\",\"tweet-timestamp js-permalink js-nav js-tooltip\"})\n",
    "tweet_date = str(times[1]['title'].split(\"- \")[1])\n",
    "\n",
    "tweet_text = soup.findAll(\"p\", attrs={\"class\": \"tweet-text\"})[2]\n",
    "tweet_text = tweet_text.get_text()\n",
    "tweet_text = str(tweet_text.encode(\"ascii\",\"ignore\"))\n",
    "tweet_date + \" - \" + tweet_text[0:100] + \"...\""
   ]
  },
  {
   "cell_type": "code",
   "execution_count": 35,
   "metadata": {},
   "outputs": [
    {
     "data": {
      "text/plain": [
       "'https://t.co/zRUmxnTnxt'"
      ]
     },
     "execution_count": 35,
     "metadata": {},
     "output_type": "execute_result"
    }
   ],
   "source": [
    "str(soup.findAll(\"a\", attrs={\"class\": \"twitter-timeline-link u-hidden\"})[x]['href'])"
   ]
  },
  {
   "cell_type": "code",
   "execution_count": null,
   "metadata": {},
   "outputs": [],
   "source": []
  }
 ],
 "metadata": {
  "kernelspec": {
   "display_name": "Python 2",
   "language": "python",
   "name": "python2"
  },
  "language_info": {
   "codemirror_mode": {
    "name": "ipython",
    "version": 2
   },
   "file_extension": ".py",
   "mimetype": "text/x-python",
   "name": "python",
   "nbconvert_exporter": "python",
   "pygments_lexer": "ipython2",
   "version": "2.7.15"
  }
 },
 "nbformat": 4,
 "nbformat_minor": 2
}
