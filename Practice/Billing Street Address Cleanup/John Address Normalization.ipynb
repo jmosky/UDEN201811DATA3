{
 "cells": [
  {
   "cell_type": "code",
   "execution_count": 1,
   "metadata": {},
   "outputs": [],
   "source": [
    "import requests\n",
    "import pandas as pd\n",
    "from bs4 import BeautifulSoup"
   ]
  },
  {
   "cell_type": "code",
   "execution_count": 30,
   "metadata": {},
   "outputs": [
    {
     "data": {
      "text/html": [
       "<div>\n",
       "<style scoped>\n",
       "    .dataframe tbody tr th:only-of-type {\n",
       "        vertical-align: middle;\n",
       "    }\n",
       "\n",
       "    .dataframe tbody tr th {\n",
       "        vertical-align: top;\n",
       "    }\n",
       "\n",
       "    .dataframe thead th {\n",
       "        text-align: right;\n",
       "    }\n",
       "</style>\n",
       "<table border=\"1\" class=\"dataframe\">\n",
       "  <thead>\n",
       "    <tr style=\"text-align: right;\">\n",
       "      <th></th>\n",
       "      <th>ful1_1</th>\n",
       "      <th>abbrev_1</th>\n",
       "      <th>full_2</th>\n",
       "      <th>abbrev_2</th>\n",
       "    </tr>\n",
       "  </thead>\n",
       "  <tbody>\n",
       "    <tr>\n",
       "      <th>1</th>\n",
       "      <td>ALLEY</td>\n",
       "      <td>ALLEY</td>\n",
       "      <td>NORTH</td>\n",
       "      <td>N</td>\n",
       "    </tr>\n",
       "    <tr>\n",
       "      <th>2</th>\n",
       "      <td>AVENUE</td>\n",
       "      <td>AVE or AV</td>\n",
       "      <td>NATIONAL</td>\n",
       "      <td>NATL</td>\n",
       "    </tr>\n",
       "    <tr>\n",
       "      <th>3</th>\n",
       "      <td>BOULEVARD</td>\n",
       "      <td>BLVD</td>\n",
       "      <td>NORTHEAST</td>\n",
       "      <td>NE</td>\n",
       "    </tr>\n",
       "    <tr>\n",
       "      <th>4</th>\n",
       "      <td>BRIDGE</td>\n",
       "      <td>BR</td>\n",
       "      <td>NORTHWEST</td>\n",
       "      <td>NW</td>\n",
       "    </tr>\n",
       "    <tr>\n",
       "      <th>5</th>\n",
       "      <td>CANYON</td>\n",
       "      <td>CYN</td>\n",
       "      <td>NORTHWEST</td>\n",
       "      <td>NW</td>\n",
       "    </tr>\n",
       "  </tbody>\n",
       "</table>\n",
       "</div>"
      ],
      "text/plain": [
       "      ful1_1   abbrev_1     full_2 abbrev_2\n",
       "1      ALLEY      ALLEY      NORTH        N\n",
       "2     AVENUE  AVE or AV   NATIONAL     NATL\n",
       "3  BOULEVARD       BLVD  NORTHEAST       NE\n",
       "4     BRIDGE         BR  NORTHWEST       NW\n",
       "5     CANYON        CYN  NORTHWEST       NW"
      ]
     },
     "execution_count": 30,
     "metadata": {},
     "output_type": "execute_result"
    }
   ],
   "source": [
    "# https://trafficsignstore.com/abbreviations.html\n",
    "# Need to get a dictionary of the abreviation and proper names\n",
    "# do something with it, to normalize or standardize the data in the dataframe below\n",
    "# example -- AVENUE -- > AVE .   OR Street --> ST, etc.... West --> W\n",
    "\n",
    "html = pd.read_html('https://trafficsignstore.com/abbreviations.html')[0]\n",
    "html.columns = ['ful1_1', 'abbrev_1', 'full_2', 'abbrev_2']# no nice <th>\n",
    "html = html.iloc[1:].copy() # skip the zero'th row\n",
    "html.head()"
   ]
  },
  {
   "cell_type": "code",
   "execution_count": 34,
   "metadata": {},
   "outputs": [],
   "source": [
    "d1 = dict(zip(html.ful1_1, html.abbrev_1))\n",
    "d2 = dict(zip(html.full_2, html.abbrev_2))\n",
    "lookup = {**d1, **d2}"
   ]
  },
  {
   "cell_type": "code",
   "execution_count": 50,
   "metadata": {},
   "outputs": [
    {
     "data": {
      "text/plain": [
       "'4830 W 15TH ST'"
      ]
     },
     "execution_count": 50,
     "metadata": {},
     "output_type": "execute_result"
    }
   ],
   "source": [
    "# Prototype a solution for a single row whicih needs fixin\"\n",
    "sample = \"4830 WEST 15TH STREET\" # STREET -- ST, # AVENUE --> \"Ave or Av\"\n",
    "\n",
    "# string to list\n",
    "# build a dict\n",
    "# iteravte over list\n",
    "# replace some words with dict value\n",
    "# go back from newlist to a string\n",
    "# go home\n",
    "\n",
    "def clean_row(input_string):\n",
    "    new_words = []\n",
    "    words_from_addy = input_string.split() # list of words\n",
    "    \n",
    "    for word in words_from_addy:\n",
    "        if word in lookup:\n",
    "            new_words.append(lookup[word])\n",
    "        else:\n",
    "            new_words.append(word) # nothing to change\n",
    "    return \" \".join(new_words)\n",
    "\n",
    "def clean_row_john(input_string):\n",
    "    words = input_string.split()\n",
    "    for index, w in enumerate(words):\n",
    "        if w in lookup: #if key in dict modify the value in words otherwise\n",
    "            words[index] = lookup[w]\n",
    "    return \" \".join(words)\n",
    "\n",
    "clean_row_john(sample)"
   ]
  },
  {
   "cell_type": "code",
   "execution_count": 42,
   "metadata": {},
   "outputs": [],
   "source": [
    "df = pd.read_csv('/Users/jeff/Downloads/class_billing_street.csv')"
   ]
  },
  {
   "cell_type": "code",
   "execution_count": 45,
   "metadata": {},
   "outputs": [
    {
     "data": {
      "text/html": [
       "<div>\n",
       "<style scoped>\n",
       "    .dataframe tbody tr th:only-of-type {\n",
       "        vertical-align: middle;\n",
       "    }\n",
       "\n",
       "    .dataframe tbody tr th {\n",
       "        vertical-align: top;\n",
       "    }\n",
       "\n",
       "    .dataframe thead th {\n",
       "        text-align: right;\n",
       "    }\n",
       "</style>\n",
       "<table border=\"1\" class=\"dataframe\">\n",
       "  <thead>\n",
       "    <tr style=\"text-align: right;\">\n",
       "      <th></th>\n",
       "      <th>BillingStreet</th>\n",
       "      <th>normed_addy</th>\n",
       "    </tr>\n",
       "  </thead>\n",
       "  <tbody>\n",
       "    <tr>\n",
       "      <th>0</th>\n",
       "      <td>709 GRAND AVE SW</td>\n",
       "      <td>709 GRAND AVE SW</td>\n",
       "    </tr>\n",
       "    <tr>\n",
       "      <th>1</th>\n",
       "      <td>1420 SOUTH TRENTON ST M/C 2T-43</td>\n",
       "      <td>1420 S TRENTON ST M/C 2T-43</td>\n",
       "    </tr>\n",
       "    <tr>\n",
       "      <th>2</th>\n",
       "      <td>PO BOX 660425</td>\n",
       "      <td>PO BOX 660425</td>\n",
       "    </tr>\n",
       "    <tr>\n",
       "      <th>3</th>\n",
       "      <td>135 NORTH SIERRA ST SUITE A-1</td>\n",
       "      <td>135 N SIERRA ST SUITE A-1</td>\n",
       "    </tr>\n",
       "    <tr>\n",
       "      <th>4</th>\n",
       "      <td>1275 REDIVERSION RD</td>\n",
       "      <td>1275 REDIVERSION RD</td>\n",
       "    </tr>\n",
       "    <tr>\n",
       "      <th>5</th>\n",
       "      <td>600 S MAESTRI PL (HERBERT FEDERAL BLDG)</td>\n",
       "      <td>600 S MAESTRI PL (HERBERT FEDERAL BLDG)</td>\n",
       "    </tr>\n",
       "    <tr>\n",
       "      <th>6</th>\n",
       "      <td>441 VINE STREET RM 3003</td>\n",
       "      <td>441 VINE ST RM 3003</td>\n",
       "    </tr>\n",
       "    <tr>\n",
       "      <th>7</th>\n",
       "      <td>486 REPLACEMENT AVE</td>\n",
       "      <td>486 REPLACEMENT AVE</td>\n",
       "    </tr>\n",
       "    <tr>\n",
       "      <th>8</th>\n",
       "      <td>48 DONLEY ST SUITE 504</td>\n",
       "      <td>48 DONLEY ST SUITE 504</td>\n",
       "    </tr>\n",
       "    <tr>\n",
       "      <th>9</th>\n",
       "      <td>BUILDING 214 2ND FLOOR ISF SUPPLIER CLASSIFIED...</td>\n",
       "      <td>BUILDING 214 2ND FLOOR ISF SUPPLIER CLASSIFIED...</td>\n",
       "    </tr>\n",
       "    <tr>\n",
       "      <th>10</th>\n",
       "      <td>333 CONSTITUTION AVE NW US FOREIGN INTELLIGENCE</td>\n",
       "      <td>333 CONSTITUTION AVE NW US FOREIGN INTELLIGENCE</td>\n",
       "    </tr>\n",
       "    <tr>\n",
       "      <th>11</th>\n",
       "      <td>1234 ANYTOWN ST</td>\n",
       "      <td>1234 ANYTOWN ST</td>\n",
       "    </tr>\n",
       "    <tr>\n",
       "      <th>12</th>\n",
       "      <td>BLDG #676 VFK COMP RM B-10 VFK</td>\n",
       "      <td>BLDG #676 VFK COMP RM B-10 VFK</td>\n",
       "    </tr>\n",
       "    <tr>\n",
       "      <th>13</th>\n",
       "      <td>1800 CENTURY PL NE</td>\n",
       "      <td>1800 CENTURY PL NE</td>\n",
       "    </tr>\n",
       "    <tr>\n",
       "      <th>14</th>\n",
       "      <td>1604 BROOKLYN AVE</td>\n",
       "      <td>1604 BROOKLYN AVE</td>\n",
       "    </tr>\n",
       "    <tr>\n",
       "      <th>15</th>\n",
       "      <td>1148 E TEXAS AVE</td>\n",
       "      <td>1148 E TEXAS AVE</td>\n",
       "    </tr>\n",
       "    <tr>\n",
       "      <th>16</th>\n",
       "      <td>301 VOYAGER WAY NW</td>\n",
       "      <td>301 VOYAGER WAY NW</td>\n",
       "    </tr>\n",
       "    <tr>\n",
       "      <th>17</th>\n",
       "      <td>120 EAST WILLIAMS STREET</td>\n",
       "      <td>120 E WILLIAMS ST</td>\n",
       "    </tr>\n",
       "    <tr>\n",
       "      <th>18</th>\n",
       "      <td>101 E POST ROAD</td>\n",
       "      <td>101 E POST RD</td>\n",
       "    </tr>\n",
       "    <tr>\n",
       "      <th>19</th>\n",
       "      <td>4830 WEST 15TH STREET</td>\n",
       "      <td>4830 W 15TH ST</td>\n",
       "    </tr>\n",
       "  </tbody>\n",
       "</table>\n",
       "</div>"
      ],
      "text/plain": [
       "                                        BillingStreet  \\\n",
       "0                                    709 GRAND AVE SW   \n",
       "1                     1420 SOUTH TRENTON ST M/C 2T-43   \n",
       "2                                       PO BOX 660425   \n",
       "3                       135 NORTH SIERRA ST SUITE A-1   \n",
       "4                                 1275 REDIVERSION RD   \n",
       "5             600 S MAESTRI PL (HERBERT FEDERAL BLDG)   \n",
       "6                             441 VINE STREET RM 3003   \n",
       "7                                 486 REPLACEMENT AVE   \n",
       "8                              48 DONLEY ST SUITE 504   \n",
       "9   BUILDING 214 2ND FLOOR ISF SUPPLIER CLASSIFIED...   \n",
       "10    333 CONSTITUTION AVE NW US FOREIGN INTELLIGENCE   \n",
       "11                                    1234 ANYTOWN ST   \n",
       "12                     BLDG #676 VFK COMP RM B-10 VFK   \n",
       "13                                 1800 CENTURY PL NE   \n",
       "14                                  1604 BROOKLYN AVE   \n",
       "15                                   1148 E TEXAS AVE   \n",
       "16                                 301 VOYAGER WAY NW   \n",
       "17                           120 EAST WILLIAMS STREET   \n",
       "18                                    101 E POST ROAD   \n",
       "19                              4830 WEST 15TH STREET   \n",
       "\n",
       "                                          normed_addy  \n",
       "0                                    709 GRAND AVE SW  \n",
       "1                         1420 S TRENTON ST M/C 2T-43  \n",
       "2                                       PO BOX 660425  \n",
       "3                           135 N SIERRA ST SUITE A-1  \n",
       "4                                 1275 REDIVERSION RD  \n",
       "5             600 S MAESTRI PL (HERBERT FEDERAL BLDG)  \n",
       "6                                 441 VINE ST RM 3003  \n",
       "7                                 486 REPLACEMENT AVE  \n",
       "8                              48 DONLEY ST SUITE 504  \n",
       "9   BUILDING 214 2ND FLOOR ISF SUPPLIER CLASSIFIED...  \n",
       "10    333 CONSTITUTION AVE NW US FOREIGN INTELLIGENCE  \n",
       "11                                    1234 ANYTOWN ST  \n",
       "12                     BLDG #676 VFK COMP RM B-10 VFK  \n",
       "13                                 1800 CENTURY PL NE  \n",
       "14                                  1604 BROOKLYN AVE  \n",
       "15                                   1148 E TEXAS AVE  \n",
       "16                                 301 VOYAGER WAY NW  \n",
       "17                                  120 E WILLIAMS ST  \n",
       "18                                      101 E POST RD  \n",
       "19                                     4830 W 15TH ST  "
      ]
     },
     "execution_count": 45,
     "metadata": {},
     "output_type": "execute_result"
    }
   ],
   "source": [
    "df['normed_addy'] = df.BillingStreet.map(clean_row)\n",
    "df.head(20)"
   ]
  },
  {
   "cell_type": "code",
   "execution_count": 51,
   "metadata": {},
   "outputs": [],
   "source": [
    "import string"
   ]
  },
  {
   "cell_type": "code",
   "execution_count": 52,
   "metadata": {},
   "outputs": [
    {
     "data": {
      "text/plain": [
       "'!\"#$%&\\'()*+,-./:;<=>?@[\\\\]^_`{|}~'"
      ]
     },
     "execution_count": 52,
     "metadata": {},
     "output_type": "execute_result"
    }
   ],
   "source": [
    "string.punctuation # go over my string, remove all chars in string.punuctuation"
   ]
  },
  {
   "cell_type": "code",
   "execution_count": 57,
   "metadata": {},
   "outputs": [
    {
     "data": {
      "text/plain": [
       "''"
      ]
     },
     "execution_count": 57,
     "metadata": {},
     "output_type": "execute_result"
    }
   ],
   "source": [
    "import re\n",
    "s = \"string. () With. Punctuation?\"\n",
    "s = re.sub(r'[^\\w\\s]','',string.punctuation)\n",
    "s.replace(\"_\", \"\") #adios"
   ]
  },
  {
   "cell_type": "code",
   "execution_count": null,
   "metadata": {},
   "outputs": [],
   "source": []
  }
 ],
 "metadata": {
  "kernelspec": {
   "display_name": "Python 3",
   "language": "python",
   "name": "python3"
  },
  "language_info": {
   "codemirror_mode": {
    "name": "ipython",
    "version": 3
   },
   "file_extension": ".py",
   "mimetype": "text/x-python",
   "name": "python",
   "nbconvert_exporter": "python",
   "pygments_lexer": "ipython3",
   "version": "3.6.8"
  }
 },
 "nbformat": 4,
 "nbformat_minor": 2
}
