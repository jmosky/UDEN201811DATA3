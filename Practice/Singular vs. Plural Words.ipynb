{
 "cells": [
  {
   "cell_type": "code",
   "execution_count": 14,
   "metadata": {},
   "outputs": [
    {
     "name": "stdout",
     "output_type": "stream",
     "text": [
      "['dog', 'kennel', 'walking', 'leash', 'dogs', 'human', 'humans', 'mice', 'moose', 'cherubim', 'cherub']\n"
     ]
    }
   ],
   "source": [
    "import inflect\n",
    "inflect = inflect.engine()\n",
    "\n",
    "words = ['dog', 'kennel', 'walking', 'leash', 'dogs', 'human', 'humans', 'mice','moose','cherubim','cherub']\n",
    "print(words)\n",
    "\n",
    "for i in words:\n",
    "    if inflect.singular_noun(i) is False:\n",
    "        print (i, \"is singular\")\n",
    "    else:\n",
    "        print (i, \"is plural\")\n"
   ]
  },
  {
   "cell_type": "code",
   "execution_count": 15,
   "metadata": {},
   "outputs": [
    {
     "name": "stdout",
     "output_type": "stream",
     "text": [
      "('dog', 'is singular')\n",
      "('kennel', 'is singular')\n",
      "('walking', 'is singular')\n",
      "('leash', 'is singular')\n",
      "('dogs', 'is plural')\n",
      "('human', 'is singular')\n",
      "('humans', 'is plural')\n",
      "('mice', 'is plural')\n",
      "('moose', 'is plural')\n",
      "('cherubim', 'is singular')\n",
      "('cherub', 'is singular')\n"
     ]
    }
   ],
   "source": [
    "for i in words:\n",
    "    if inflect.singular_noun(i) is False:\n",
    "        print (i, \"is singular\")\n",
    "    else:\n",
    "        print (i, \"is plural\")\n"
   ]
  },
  {
   "cell_type": "code",
   "execution_count": null,
   "metadata": {},
   "outputs": [],
   "source": []
  },
  {
   "cell_type": "code",
   "execution_count": null,
   "metadata": {},
   "outputs": [],
   "source": []
  }
 ],
 "metadata": {
  "kernelspec": {
   "display_name": "Python 2",
   "language": "python",
   "name": "python2"
  },
  "language_info": {
   "codemirror_mode": {
    "name": "ipython",
    "version": 2
   },
   "file_extension": ".py",
   "mimetype": "text/x-python",
   "name": "python",
   "nbconvert_exporter": "python",
   "pygments_lexer": "ipython2",
   "version": "2.7.15"
  }
 },
 "nbformat": 4,
 "nbformat_minor": 2
}
